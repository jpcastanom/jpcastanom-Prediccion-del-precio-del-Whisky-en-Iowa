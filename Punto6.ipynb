{
 "cells": [
  {
   "cell_type": "markdown",
   "id": "62b6507a",
   "metadata": {},
   "source": [
    "### DESPLIEGUE\n"
   ]
  },
  {
   "cell_type": "code",
   "execution_count": 16,
   "id": "1b16aef9",
   "metadata": {},
   "outputs": [],
   "source": [
    "import tkinter as tk\n",
    "from tkinter import messagebox\n",
    "import numpy as np\n",
    "import pickle as pk"
   ]
  },
  {
   "cell_type": "markdown",
   "id": "668326d4",
   "metadata": {},
   "source": [
    "Cargamos el modelo entrenado almacenado en el archivo pickle"
   ]
  },
  {
   "cell_type": "code",
   "execution_count": null,
   "id": "964272d5",
   "metadata": {},
   "outputs": [],
   "source": [
    "with open(\"C:/Users/Juan Pablo/OneDrive - Universidad EAFIT/Documentos/Eafit/5to Semestre IM/Mode 4/Proyecto final/modelo_final.pickle\", 'rb') as f:\n",
    "    modelo = pk.load(f)"
   ]
  },
  {
   "cell_type": "markdown",
   "id": "4ebb5e36",
   "metadata": {},
   "source": [
    "Definimos la función con la que verificamos el correcto formato de las variables que ingresa el usuario"
   ]
  },
  {
   "cell_type": "code",
   "execution_count": 18,
   "id": "411ff45e",
   "metadata": {},
   "outputs": [],
   "source": [
    "def validar_entradas():\n",
    "    try:\n",
    "        # Validar fecha como int con 8 dígitos (YYYYMMDD)\n",
    "        date = int(entry_date.get())\n",
    "        if not (20000101 <= date <= 20241231):\n",
    "            return False  # Fecha fuera de rango válido (sintácticamente)\n",
    "\n",
    "        # Validar zip code (5 dígitos, entre 50001 y 52809)\n",
    "        zip_code = int(entry_zip_code.get())\n",
    "        if not (50001 <= zip_code <= 52809):\n",
    "            return False\n",
    "\n",
    "        # Validar county_number entre 1 y 99\n",
    "        county_number = float(entry_county_number.get())\n",
    "        if not (1 <= county_number <= 99):\n",
    "            return False\n",
    "\n",
    "        # Validar store_number, pack, bottle_volume, bottles_sold, vendor_number > 0\n",
    "        store_number = int(entry_store_number.get())\n",
    "        pack = int(entry_pack.get())\n",
    "        bottle_volume = int(entry_bottle_volume_ml.get())\n",
    "        bottles_sold = int(entry_bottles_sold.get())\n",
    "        vendor_number = float(entry_vendor_number.get())\n",
    "\n",
    "        if store_number <= 0 or pack <= 0 or bottle_volume <= 0:\n",
    "            return False\n",
    "        if bottles_sold <= 0 or vendor_number <= 0:\n",
    "            return False\n",
    "\n",
    "        state_bottle_cost = float(entry_state_bottle_cost.get())\n",
    "        if state_bottle_cost <= 0:\n",
    "            return False\n",
    "\n",
    "        # Validar que se haya seleccionado una categoría de whisky\n",
    "        if whisky_var.get() == \"\":\n",
    "            return False\n",
    "\n",
    "        return True  # Todo válido\n",
    "    except ValueError:\n",
    "        return False  # Algún campo no es convertible al tipo requerido\n"
   ]
  },
  {
   "cell_type": "code",
   "execution_count": 19,
   "id": "503de7f7",
   "metadata": {},
   "outputs": [],
   "source": [
    "# Habilita o deshabilita el botón de predicción\n",
    "def habilitar_botón_prediccion():\n",
    "    if validar_entradas():\n",
    "        btn_prediccion.config(state=tk.NORMAL)\n",
    "    else:\n",
    "        btn_prediccion.config(state=tk.DISABLED)"
   ]
  },
  {
   "cell_type": "markdown",
   "id": "730056b8",
   "metadata": {},
   "source": [
    "Definimos la función con la que obtenemos los datos del usuario"
   ]
  },
  {
   "cell_type": "code",
   "execution_count": 20,
   "id": "f8360918",
   "metadata": {},
   "outputs": [],
   "source": [
    "def obtener_entradas_usuario():\n",
    "    try:\n",
    "        date = int(entry_date.get())\n",
    "        store_number = int(entry_store_number.get())\n",
    "        zip_code = int(entry_zip_code.get())\n",
    "        county_number = float(entry_county_number.get())\n",
    "        pack = int(entry_pack.get())\n",
    "        bottle_volume = int(entry_bottle_volume_ml.get())\n",
    "        bottle_cost = float(entry_state_bottle_cost.get())\n",
    "        bottles_sold = int(entry_bottles_sold.get())\n",
    "        vendor_number = float(entry_vendor_number.get())\n",
    "        \n",
    "\n",
    "        # Variables categóricas\n",
    "        blended = whisky_var.get() == \"Category_BLENDED WHISKIES\"\n",
    "        canadian = whisky_var.get() == \"Category_CANADIAN WHISKIES\"\n",
    "        irish = whisky_var.get() == \"Category_IRISH WHISKIES\"\n",
    "        scotch = whisky_var.get() == \"Category_SCOTCH WHISKIES\"\n",
    "        straight = whisky_var.get() == \"Category_STRAIGHT BOURBON WHISKIES\"\n",
    "        tennessee = whisky_var.get() == \"Category_TENNESSEE WHISKIES\"\n",
    "\n",
    "        entradas = [\n",
    "            date, store_number, zip_code, county_number, pack, \n",
    "            bottle_volume, bottle_cost, bottles_sold, vendor_number,\n",
    "            blended, canadian, irish, scotch, straight, tennessee\n",
    "        ]\n",
    "\n",
    "        return np.array(entradas).reshape(1, -1)\n",
    "    except ValueError:\n",
    "        messagebox.showerror(\"Error\", \"Por favor ingrese valores válidos en todos los campos.\")\n",
    "        return None"
   ]
  },
  {
   "cell_type": "markdown",
   "id": "8f9e0526",
   "metadata": {},
   "source": [
    "Función que ejecuta la predicción"
   ]
  },
  {
   "cell_type": "code",
   "execution_count": 21,
   "id": "099d8fbd",
   "metadata": {},
   "outputs": [],
   "source": [
    "def hacer_prediccion():\n",
    "    entradas_usuario = obtener_entradas_usuario()\n",
    "    if entradas_usuario is not None:\n",
    "        prediccion = modelo.predict(entradas_usuario)\n",
    "        messagebox.showinfo(\"Resultado\", f\"La predicción del precio de venta es: {prediccion[0]:.2f} dolares\")"
   ]
  },
  {
   "cell_type": "markdown",
   "id": "fbacf2f2",
   "metadata": {},
   "source": [
    "Interfaz"
   ]
  },
  {
   "cell_type": "code",
   "execution_count": 22,
   "id": "d1fdb99c",
   "metadata": {},
   "outputs": [
    {
     "data": {
      "text/plain": [
       "'2469810813376<lambda>'"
      ]
     },
     "execution_count": 22,
     "metadata": {},
     "output_type": "execute_result"
    }
   ],
   "source": [
    "ventana = tk.Tk()\n",
    "ventana.title(\"Predicción de Ventas de Whisky\")\n",
    "\n",
    "# Campos de entrada\n",
    "tk.Label(ventana, text=\"Fecha (YYYYMMDD):\").grid(row=0, column=0, padx=10, pady=5)\n",
    "entry_date = tk.Entry(ventana)\n",
    "entry_date.grid(row=0, column=1, padx=10, pady=5)\n",
    "\n",
    "tk.Label(ventana, text=\"Número de tienda:\").grid(row=1, column=0, padx=10, pady=5)\n",
    "entry_store_number = tk.Entry(ventana)\n",
    "entry_store_number.grid(row=1, column=1, padx=10, pady=5)\n",
    "\n",
    "tk.Label(ventana, text=\"Código Postal:\").grid(row=2, column=0, padx=10, pady=5)\n",
    "entry_zip_code = tk.Entry(ventana)\n",
    "entry_zip_code.grid(row=2, column=1, padx=10, pady=5)\n",
    "\n",
    "tk.Label(ventana, text=\"Número de condado:\").grid(row=3, column=0, padx=10, pady=5)\n",
    "entry_county_number = tk.Entry(ventana)\n",
    "entry_county_number.grid(row=3, column=1, padx=10, pady=5)\n",
    "\n",
    "tk.Label(ventana, text=\"Pack:\").grid(row=4, column=0, padx=10, pady=5)\n",
    "entry_pack = tk.Entry(ventana)\n",
    "entry_pack.grid(row=4, column=1, padx=10, pady=5)\n",
    "\n",
    "tk.Label(ventana, text=\"Volumen de botella (ml):\").grid(row=5, column=0, padx=10, pady=5)\n",
    "entry_bottle_volume_ml = tk.Entry(ventana)\n",
    "entry_bottle_volume_ml.grid(row=5, column=1, padx=10, pady=5)\n",
    "\n",
    "tk.Label(ventana, text=\"Costo por botella (estado):\").grid(row=6, column=0, padx=10, pady=5)\n",
    "entry_state_bottle_cost = tk.Entry(ventana)\n",
    "entry_state_bottle_cost.grid(row=6, column=1, padx=10, pady=5)\n",
    "\n",
    "tk.Label(ventana, text=\"Botellas vendidas:\").grid(row=7, column=0, padx=10, pady=5)\n",
    "entry_bottles_sold = tk.Entry(ventana)\n",
    "entry_bottles_sold.grid(row=7, column=1, padx=10, pady=5)\n",
    "\n",
    "tk.Label(ventana, text=\"Número de proveedor:\").grid(row=8, column=0, padx=10, pady=5)\n",
    "entry_vendor_number = tk.Entry(ventana)\n",
    "entry_vendor_number.grid(row=8, column=1, padx=10, pady=5)\n",
    "\n",
    "# Menú desplegable para tipo de whisky\n",
    "tk.Label(ventana, text=\"Tipo de Whisky:\").grid(row=9, column=0, padx=10, pady=5)\n",
    "whisky_var = tk.StringVar(value=\"\")\n",
    "whisky_menu = tk.OptionMenu(\n",
    "    ventana, whisky_var,\n",
    "    \"Category_BLENDED WHISKIES\",\n",
    "    \"Category_CANADIAN WHISKIES\",\n",
    "    \"Category_IRISH WHISKIES\",\n",
    "    \"Category_SCOTCH WHISKIES\",\n",
    "    \"Category_STRAIGHT BOURBON WHISKIES\",\n",
    "    \"Category_TENNESSEE WHISKIES\"\n",
    ")\n",
    "whisky_menu.grid(row=9, column=1, padx=10, pady=5)\n",
    "\n",
    "# Botón para predecir\n",
    "btn_prediccion = tk.Button(ventana, text=\"Hacer Predicción\", command=hacer_prediccion, state=tk.DISABLED)\n",
    "btn_prediccion.grid(row=10, column=0, columnspan=2, pady=10)\n",
    "\n",
    "# Eventos para activar botón\n",
    "campos = [\n",
    "    entry_date, entry_store_number, entry_zip_code,\n",
    "    entry_county_number, entry_pack, entry_bottle_volume_ml, entry_state_bottle_cost,\n",
    "    entry_bottles_sold, entry_vendor_number \n",
    "]\n",
    "\n",
    "for campo in campos:\n",
    "    campo.bind(\"<KeyRelease>\", lambda e: habilitar_botón_prediccion())\n",
    "\n",
    "whisky_var.trace(\"w\", lambda *args: habilitar_botón_prediccion())\n"
   ]
  },
  {
   "cell_type": "markdown",
   "id": "a52d64f8",
   "metadata": {},
   "source": [
    "Ejecutamos la aplicación"
   ]
  },
  {
   "cell_type": "code",
   "execution_count": 23,
   "id": "d2b3ea20",
   "metadata": {},
   "outputs": [
    {
     "name": "stderr",
     "output_type": "stream",
     "text": [
      "C:\\Users\\Juan Pablo\\AppData\\Local\\Packages\\PythonSoftwareFoundation.Python.3.11_qbz5n2kfra8p0\\LocalCache\\local-packages\\Python311\\site-packages\\sklearn\\utils\\validation.py:2739: UserWarning: X does not have valid feature names, but RandomForestRegressor was fitted with feature names\n",
      "  warnings.warn(\n"
     ]
    }
   ],
   "source": [
    "ventana.mainloop()"
   ]
  }
 ],
 "metadata": {
  "kernelspec": {
   "display_name": "Python 3",
   "language": "python",
   "name": "python3"
  },
  "language_info": {
   "codemirror_mode": {
    "name": "ipython",
    "version": 3
   },
   "file_extension": ".py",
   "mimetype": "text/x-python",
   "name": "python",
   "nbconvert_exporter": "python",
   "pygments_lexer": "ipython3",
   "version": "3.11.9"
  }
 },
 "nbformat": 4,
 "nbformat_minor": 5
}
